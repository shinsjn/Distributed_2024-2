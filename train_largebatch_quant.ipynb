{
 "cells": [
  {
   "cell_type": "markdown",
   "id": "64447c74",
   "metadata": {},
   "source": [
    "# 모듈 불러오기"
   ]
  },
  {
   "metadata": {
    "ExecuteTime": {
     "end_time": "2024-11-04T07:21:14.690772Z",
     "start_time": "2024-11-04T07:21:14.685215Z"
    }
   },
   "cell_type": "code",
   "source": "# !conda install pytorch torchvision torchaudio pytorch-cuda=11.8 -c pytorch -c nvidia",
   "id": "f895e3e19041882c",
   "outputs": [],
   "execution_count": 9
  },
  {
   "cell_type": "code",
   "id": "34dc5bfa",
   "metadata": {
    "ExecuteTime": {
     "end_time": "2024-11-04T07:21:14.715357Z",
     "start_time": "2024-11-04T07:21:14.705065Z"
    }
   },
   "source": [
    "import pandas as pd\n",
    "import numpy as np\n",
    "import matplotlib.pyplot as plt\n",
    "import seaborn as sns\n",
    "import random\n",
    "import re\n",
    "\n",
    "import scipy\n",
    "from scipy.ndimage import gaussian_filter1d\n",
    "from sklearn.preprocessing import MinMaxScaler, StandardScaler\n",
    "from sklearn.metrics import mean_squared_error, mean_absolute_error\n",
    "from sklearn.model_selection import train_test_split\n",
    "from sklearn.linear_model import LinearRegression\n",
    "from sklearn.manifold import TSNE\n",
    "\n",
    "import torch\n",
    "from torch.utils.data import Dataset, DataLoader, random_split\n",
    "import torch.nn as nn\n",
    "from torch import optim\n",
    "import torch.nn.functional as F\n",
    "\n",
    "import os \n",
    "import glob\n",
    "import itertools\n",
    "from copy import deepcopy\n",
    "from sklearn.model_selection import KFold\n",
    "\n",
    "import datetime\n",
    "\n",
    "from dataloader import *\n",
    "\n",
    "from model_distribution import *"
   ],
   "outputs": [],
   "execution_count": 10
  },
  {
   "cell_type": "markdown",
   "id": "3038d51f",
   "metadata": {},
   "source": [
    "# Train"
   ]
  },
  {
   "cell_type": "code",
   "id": "feb3d5a4",
   "metadata": {
    "ExecuteTime": {
     "end_time": "2024-11-04T07:21:14.765699Z",
     "start_time": "2024-11-04T07:21:14.760884Z"
    }
   },
   "source": [
    "device = torch.device('cuda:0' if torch.cuda.is_available else 'cpu')\n",
    "\n",
    "conv1d_dim1 = 32\n",
    "conv1d_dim2 = 64\n",
    "conv1d_dim3 = 128\n",
    "dense_dim = 256\n",
    "\n",
    "learning_rate = 0.001\n",
    "n_epochs = 2000\n",
    "\n",
    "criterion_distribution = nn.GaussianNLLLoss()"
   ],
   "outputs": [],
   "execution_count": 11
  },
  {
   "cell_type": "code",
   "id": "0e5d0ed5",
   "metadata": {
    "ExecuteTime": {
     "end_time": "2024-11-04T07:21:14.809045Z",
     "start_time": "2024-11-04T07:21:14.800604Z"
    }
   },
   "source": [
    "# 경로 입력 및 아이디 추출\n",
    "\n",
    "file_path = \"./data/total/\"\n",
    "data_path = glob.glob(file_path + '*')\n",
    "name = []\n",
    "for file_name in data_path:\n",
    "    folder_name = os.path.split(file_name)[1][:7]\n",
    "    name += [folder_name]\n",
    "    \n",
    "id_name = np.unique(name)"
   ],
   "outputs": [],
   "execution_count": 12
  },
  {
   "cell_type": "code",
   "id": "190fe5f3",
   "metadata": {
    "ExecuteTime": {
     "end_time": "2024-11-04T07:21:14.854931Z",
     "start_time": "2024-11-04T07:21:14.849582Z"
    }
   },
   "source": [
    "id_name"
   ],
   "outputs": [
    {
     "data": {
      "text/plain": [
       "array(['IF00017', 'IF00024', 'IF00034', 'IF00041', 'IF01020', 'IF01045',\n",
       "       'IF01047', 'IF02035', 'IF03014', 'IF03027', 'IF03039', 'IF94031',\n",
       "       'IF99008', 'IF99013', 'IF99030', 'IF99032', 'IM01006', 'IM01029',\n",
       "       'IM02040', 'IM03011', 'IM03048', 'IM96018', 'IM96033', 'IM97015',\n",
       "       'IM98009', 'IM98019', 'IM98026', 'IM98036', 'IM98042', 'IM98049',\n",
       "       'IM98050', 'IM99007', 'IM99010', 'IM99012', 'IM99021', 'IM99025',\n",
       "       'IM99037'], dtype='<U7')"
      ]
     },
     "execution_count": 13,
     "metadata": {},
     "output_type": "execute_result"
    }
   ],
   "execution_count": 13
  },
  {
   "cell_type": "code",
   "id": "a893c2be",
   "metadata": {
    "ExecuteTime": {
     "end_time": "2024-11-04T07:21:14.884974Z",
     "start_time": "2024-11-04T07:21:14.881763Z"
    }
   },
   "source": [
    "test_id = np.array(['IF03014', 'IF00041', 'IM02040', 'IM98049'])\n",
    "# test_id = np.array(['IF03014', 'IF00041', 'IM02040', 'IM98042'])"
   ],
   "outputs": [],
   "execution_count": 14
  },
  {
   "cell_type": "markdown",
   "id": "601ff15e",
   "metadata": {},
   "source": [
    "# Visualize"
   ]
  },
  {
   "cell_type": "code",
   "id": "5d260465",
   "metadata": {
    "ExecuteTime": {
     "end_time": "2024-11-04T07:21:15.961055Z",
     "start_time": "2024-11-04T07:21:14.931335Z"
    }
   },
   "source": [
    "device = torch.device('cuda:0' if torch.cuda.is_available else 'cpu')\n",
    "\n",
    "test_file_path = \"./data/total/\"\n",
    "\n",
    "test_dataset_R = Gait_Dataset_Salted(test_file_path, test_id, right=True)\n",
    "test_dataset_L = Gait_Dataset_Salted(test_file_path, test_id, right=False)\n",
    "\n",
    "test_dataset = torch.utils.data.ConcatDataset([test_dataset_R, test_dataset_L])\n",
    "\n",
    "test_loader = torch.utils.data.DataLoader(test_dataset,\n",
    "                                       batch_size=len(test_dataset),\n",
    "                                       shuffle=False,\n",
    "                                       worker_init_fn=np.random.seed(42))"
   ],
   "outputs": [],
   "execution_count": 15
  },
  {
   "cell_type": "code",
   "id": "b896ff8f",
   "metadata": {
    "ExecuteTime": {
     "end_time": "2024-11-04T07:21:30.416751Z",
     "start_time": "2024-11-04T07:21:15.990797Z"
    }
   },
   "source": [
    "### Scatter Plot \n",
    "import torch.quantization\n",
    "\n",
    "conv1d_dim1 = 32\n",
    "conv1d_dim2 = 64\n",
    "conv1d_dim3 = 128\n",
    "dense_dim = 256\n",
    "\n",
    "stride_length_list = pd.DataFrame()\n",
    "sigma_list = pd.DataFrame()\n",
    "tot_val_MAE = 0\n",
    "tot_val_MAPE = 0\n",
    "\n",
    "start_time = datetime.datetime.now()\n",
    "print(f\"Training started at: {start_time}\")\n",
    "\n",
    "for fold_idx, model_name in enumerate(glob.glob('./model/L2/L2_fold' + '*')):\n",
    "    print(model_name)\n",
    "    model = Encoder(conv1d_dim1, conv1d_dim2, conv1d_dim3, dense_dim)\n",
    "    model.load_state_dict(torch.load(model_name))\n",
    "    \n",
    "    torch.save(model.state_dict(), \"model_fp32.pth\")\n",
    "    fp32_size = os.path.getsize(\"model_fp32.pth\") / 1024  # KB 단위로 크기 확인\n",
    "\n",
    "    \n",
    "    model_int8 = torch.quantization.quantize_dynamic(\n",
    "    model, {nn.Conv1d, nn.Linear}, dtype=torch.qint8\n",
    ")\n",
    "    \n",
    "    # 양자화 후 모델 크기 측정\n",
    "    torch.save(model_int8.state_dict(), \"model_int8.pth\")\n",
    "    int8_size = os.path.getsize(\"model_int8.pth\") / 1024  # KB 단위로 크기 확인\n",
    "    \n",
    "    # 결과 출력\n",
    "    print(f\"FP32 Model Size: {fp32_size:.2f} KB\")\n",
    "    print(f\"INT8 Quantized Model Size: {int8_size:.2f} KB\")\n",
    "    print(f\"Size Reduction: {((fp32_size - int8_size) / fp32_size) * 100:.2f}%\")\n",
    "    \n",
    "    model = model_int8\n",
    "    \n",
    "    model.eval()\n",
    "    pred_list = []\n",
    "    for i, data in enumerate(test_loader):\n",
    "        inputs_acc, inputs_gyr, inputs_prs, stride_length, mu, sigma, folder_id = data\n",
    "        inputs_acc, inputs_gyr, inputs_prs, stride_length = inputs_acc.float(), inputs_gyr.float(), inputs_prs.float(), stride_length.float() \n",
    "        inputs_acc, inputs_gyr, inputs_prs = inputs_acc, inputs_gyr, inputs_prs\n",
    "\n",
    "        stride_length = stride_length.reshape(-1, 1)\n",
    "        stride_length = stride_length\n",
    "\n",
    "        outputs = model(inputs_acc, inputs_gyr, inputs_prs)\n",
    "        stride_length_list.loc[:, fold_idx] = outputs[0].reshape(-1).cpu().detach().numpy()\n",
    "        sigma_list.loc[:, fold_idx] = outputs[1].reshape(-1).cpu().detach().numpy()\n",
    "        \n",
    "pred = stride_length_list.mean(axis=1)\n",
    "stride_length = stride_length.reshape(-1).cpu().detach().numpy()\n",
    "# stride_length = stride_length.reshape(-1)\n",
    "\n",
    "mu = mu.cpu().detach().numpy()\n",
    "# mu = mu\n",
    "\n",
    "# print(pred)\n",
    "# print(stride_length_list)\n",
    "MAE = np.sum(np.abs(pred - stride_length)) / len(stride_length)\n",
    "MAPE = 100 - (np.mean(np.abs(pred - stride_length) / stride_length) * 100)\n",
    "RMSE = np.sqrt(np.mean((stride_length - pred)**2))\n",
    "RSE = RMSE / np.sqrt(np.sum((stride_length - mu)**2))\n",
    "\n",
    "\n",
    "print('MAE : {:.4f}, MAPE : {:.2f}%, RMSE : {:.4f}, RSE : {:.4f}'.format(MAE, MAPE, RMSE, RSE))\n",
    "# print('MAE : {:.4f}'.format(MAE))\n",
    "\n",
    "plt.figure(figsize=(10, 10))\n",
    "plt.scatter(stride_length, pred)\n",
    "plt.xlim([80, 200])\n",
    "plt.xlabel('stride_length')\n",
    "plt.ylim([80, 200])\n",
    "plt.ylabel('pred')\n",
    "\n",
    "xpoints = ypoints = plt.xlim()\n",
    "plt.plot(xpoints, ypoints, linestyle='--', color='k', lw=3, scalex=False, scaley=False)\n",
    "\n",
    "plt.show()\n",
    "\n",
    "end_time = datetime.datetime.now()\n",
    "elapsed_time = end_time - start_time\n",
    "print(f\"Training ended at: {end_time}\")\n",
    "print(f\"Total training time: {elapsed_time}\")"
   ],
   "outputs": [
    {
     "name": "stdout",
     "output_type": "stream",
     "text": [
      "Training started at: 2024-11-04 16:21:15.998338\n",
      "./model/L2/L2_fold8.pth\n"
     ]
    },
    {
     "name": "stderr",
     "output_type": "stream",
     "text": [
      "/tmp/ipykernel_45823/2295640144.py:20: FutureWarning: You are using `torch.load` with `weights_only=False` (the current default value), which uses the default pickle module implicitly. It is possible to construct malicious pickle data which will execute arbitrary code during unpickling (See https://github.com/pytorch/pytorch/blob/main/SECURITY.md#untrusted-models for more details). In a future release, the default value for `weights_only` will be flipped to `True`. This limits the functions that could be executed during unpickling. Arbitrary objects will no longer be allowed to be loaded via this mode unless they are explicitly allowlisted by the user via `torch.serialization.add_safe_globals`. We recommend you start setting `weights_only=True` for any use case where you don't have full control of the loaded file. Please open an issue on GitHub for any issues related to this experimental feature.\n",
      "  model.load_state_dict(torch.load(model_name))\n"
     ]
    },
    {
     "name": "stdout",
     "output_type": "stream",
     "text": [
      "FP32 Model Size: 167518.10 KB\n",
      "INT8 Quantized Model Size: 44641.60 KB\n",
      "Size Reduction: 73.35%\n",
      "./model/L2/L2_fold7.pth\n"
     ]
    },
    {
     "name": "stderr",
     "output_type": "stream",
     "text": [
      "/tmp/ipykernel_45823/2295640144.py:20: FutureWarning: You are using `torch.load` with `weights_only=False` (the current default value), which uses the default pickle module implicitly. It is possible to construct malicious pickle data which will execute arbitrary code during unpickling (See https://github.com/pytorch/pytorch/blob/main/SECURITY.md#untrusted-models for more details). In a future release, the default value for `weights_only` will be flipped to `True`. This limits the functions that could be executed during unpickling. Arbitrary objects will no longer be allowed to be loaded via this mode unless they are explicitly allowlisted by the user via `torch.serialization.add_safe_globals`. We recommend you start setting `weights_only=True` for any use case where you don't have full control of the loaded file. Please open an issue on GitHub for any issues related to this experimental feature.\n",
      "  model.load_state_dict(torch.load(model_name))\n"
     ]
    },
    {
     "name": "stdout",
     "output_type": "stream",
     "text": [
      "FP32 Model Size: 167518.10 KB\n",
      "INT8 Quantized Model Size: 44641.60 KB\n",
      "Size Reduction: 73.35%\n",
      "./model/L2/L2_fold9.pth\n"
     ]
    },
    {
     "name": "stderr",
     "output_type": "stream",
     "text": [
      "/tmp/ipykernel_45823/2295640144.py:20: FutureWarning: You are using `torch.load` with `weights_only=False` (the current default value), which uses the default pickle module implicitly. It is possible to construct malicious pickle data which will execute arbitrary code during unpickling (See https://github.com/pytorch/pytorch/blob/main/SECURITY.md#untrusted-models for more details). In a future release, the default value for `weights_only` will be flipped to `True`. This limits the functions that could be executed during unpickling. Arbitrary objects will no longer be allowed to be loaded via this mode unless they are explicitly allowlisted by the user via `torch.serialization.add_safe_globals`. We recommend you start setting `weights_only=True` for any use case where you don't have full control of the loaded file. Please open an issue on GitHub for any issues related to this experimental feature.\n",
      "  model.load_state_dict(torch.load(model_name))\n"
     ]
    },
    {
     "name": "stdout",
     "output_type": "stream",
     "text": [
      "FP32 Model Size: 167518.10 KB\n",
      "INT8 Quantized Model Size: 44641.60 KB\n",
      "Size Reduction: 73.35%\n",
      "./model/L2/L2_fold5.pth\n"
     ]
    },
    {
     "name": "stderr",
     "output_type": "stream",
     "text": [
      "/tmp/ipykernel_45823/2295640144.py:20: FutureWarning: You are using `torch.load` with `weights_only=False` (the current default value), which uses the default pickle module implicitly. It is possible to construct malicious pickle data which will execute arbitrary code during unpickling (See https://github.com/pytorch/pytorch/blob/main/SECURITY.md#untrusted-models for more details). In a future release, the default value for `weights_only` will be flipped to `True`. This limits the functions that could be executed during unpickling. Arbitrary objects will no longer be allowed to be loaded via this mode unless they are explicitly allowlisted by the user via `torch.serialization.add_safe_globals`. We recommend you start setting `weights_only=True` for any use case where you don't have full control of the loaded file. Please open an issue on GitHub for any issues related to this experimental feature.\n",
      "  model.load_state_dict(torch.load(model_name))\n"
     ]
    },
    {
     "name": "stdout",
     "output_type": "stream",
     "text": [
      "FP32 Model Size: 167518.10 KB\n",
      "INT8 Quantized Model Size: 44641.60 KB\n",
      "Size Reduction: 73.35%\n",
      "./model/L2/L2_fold1.pth\n"
     ]
    },
    {
     "name": "stderr",
     "output_type": "stream",
     "text": [
      "/tmp/ipykernel_45823/2295640144.py:20: FutureWarning: You are using `torch.load` with `weights_only=False` (the current default value), which uses the default pickle module implicitly. It is possible to construct malicious pickle data which will execute arbitrary code during unpickling (See https://github.com/pytorch/pytorch/blob/main/SECURITY.md#untrusted-models for more details). In a future release, the default value for `weights_only` will be flipped to `True`. This limits the functions that could be executed during unpickling. Arbitrary objects will no longer be allowed to be loaded via this mode unless they are explicitly allowlisted by the user via `torch.serialization.add_safe_globals`. We recommend you start setting `weights_only=True` for any use case where you don't have full control of the loaded file. Please open an issue on GitHub for any issues related to this experimental feature.\n",
      "  model.load_state_dict(torch.load(model_name))\n"
     ]
    },
    {
     "name": "stdout",
     "output_type": "stream",
     "text": [
      "FP32 Model Size: 167518.10 KB\n",
      "INT8 Quantized Model Size: 44641.60 KB\n",
      "Size Reduction: 73.35%\n",
      "./model/L2/L2_fold3.pth\n"
     ]
    },
    {
     "name": "stderr",
     "output_type": "stream",
     "text": [
      "/tmp/ipykernel_45823/2295640144.py:20: FutureWarning: You are using `torch.load` with `weights_only=False` (the current default value), which uses the default pickle module implicitly. It is possible to construct malicious pickle data which will execute arbitrary code during unpickling (See https://github.com/pytorch/pytorch/blob/main/SECURITY.md#untrusted-models for more details). In a future release, the default value for `weights_only` will be flipped to `True`. This limits the functions that could be executed during unpickling. Arbitrary objects will no longer be allowed to be loaded via this mode unless they are explicitly allowlisted by the user via `torch.serialization.add_safe_globals`. We recommend you start setting `weights_only=True` for any use case where you don't have full control of the loaded file. Please open an issue on GitHub for any issues related to this experimental feature.\n",
      "  model.load_state_dict(torch.load(model_name))\n"
     ]
    },
    {
     "name": "stdout",
     "output_type": "stream",
     "text": [
      "FP32 Model Size: 167518.10 KB\n",
      "INT8 Quantized Model Size: 44641.60 KB\n",
      "Size Reduction: 73.35%\n",
      "./model/L2/L2_fold10.pth\n"
     ]
    },
    {
     "name": "stderr",
     "output_type": "stream",
     "text": [
      "/tmp/ipykernel_45823/2295640144.py:20: FutureWarning: You are using `torch.load` with `weights_only=False` (the current default value), which uses the default pickle module implicitly. It is possible to construct malicious pickle data which will execute arbitrary code during unpickling (See https://github.com/pytorch/pytorch/blob/main/SECURITY.md#untrusted-models for more details). In a future release, the default value for `weights_only` will be flipped to `True`. This limits the functions that could be executed during unpickling. Arbitrary objects will no longer be allowed to be loaded via this mode unless they are explicitly allowlisted by the user via `torch.serialization.add_safe_globals`. We recommend you start setting `weights_only=True` for any use case where you don't have full control of the loaded file. Please open an issue on GitHub for any issues related to this experimental feature.\n",
      "  model.load_state_dict(torch.load(model_name))\n"
     ]
    },
    {
     "name": "stdout",
     "output_type": "stream",
     "text": [
      "FP32 Model Size: 167518.10 KB\n",
      "INT8 Quantized Model Size: 44641.60 KB\n",
      "Size Reduction: 73.35%\n",
      "./model/L2/L2_fold2.pth\n"
     ]
    },
    {
     "name": "stderr",
     "output_type": "stream",
     "text": [
      "/tmp/ipykernel_45823/2295640144.py:20: FutureWarning: You are using `torch.load` with `weights_only=False` (the current default value), which uses the default pickle module implicitly. It is possible to construct malicious pickle data which will execute arbitrary code during unpickling (See https://github.com/pytorch/pytorch/blob/main/SECURITY.md#untrusted-models for more details). In a future release, the default value for `weights_only` will be flipped to `True`. This limits the functions that could be executed during unpickling. Arbitrary objects will no longer be allowed to be loaded via this mode unless they are explicitly allowlisted by the user via `torch.serialization.add_safe_globals`. We recommend you start setting `weights_only=True` for any use case where you don't have full control of the loaded file. Please open an issue on GitHub for any issues related to this experimental feature.\n",
      "  model.load_state_dict(torch.load(model_name))\n"
     ]
    },
    {
     "name": "stdout",
     "output_type": "stream",
     "text": [
      "FP32 Model Size: 167518.10 KB\n",
      "INT8 Quantized Model Size: 44641.60 KB\n",
      "Size Reduction: 73.35%\n",
      "./model/L2/L2_fold4.pth\n"
     ]
    },
    {
     "name": "stderr",
     "output_type": "stream",
     "text": [
      "/tmp/ipykernel_45823/2295640144.py:20: FutureWarning: You are using `torch.load` with `weights_only=False` (the current default value), which uses the default pickle module implicitly. It is possible to construct malicious pickle data which will execute arbitrary code during unpickling (See https://github.com/pytorch/pytorch/blob/main/SECURITY.md#untrusted-models for more details). In a future release, the default value for `weights_only` will be flipped to `True`. This limits the functions that could be executed during unpickling. Arbitrary objects will no longer be allowed to be loaded via this mode unless they are explicitly allowlisted by the user via `torch.serialization.add_safe_globals`. We recommend you start setting `weights_only=True` for any use case where you don't have full control of the loaded file. Please open an issue on GitHub for any issues related to this experimental feature.\n",
      "  model.load_state_dict(torch.load(model_name))\n"
     ]
    },
    {
     "name": "stdout",
     "output_type": "stream",
     "text": [
      "FP32 Model Size: 167518.10 KB\n",
      "INT8 Quantized Model Size: 44641.60 KB\n",
      "Size Reduction: 73.35%\n",
      "./model/L2/L2_fold6.pth\n"
     ]
    },
    {
     "name": "stderr",
     "output_type": "stream",
     "text": [
      "/tmp/ipykernel_45823/2295640144.py:20: FutureWarning: You are using `torch.load` with `weights_only=False` (the current default value), which uses the default pickle module implicitly. It is possible to construct malicious pickle data which will execute arbitrary code during unpickling (See https://github.com/pytorch/pytorch/blob/main/SECURITY.md#untrusted-models for more details). In a future release, the default value for `weights_only` will be flipped to `True`. This limits the functions that could be executed during unpickling. Arbitrary objects will no longer be allowed to be loaded via this mode unless they are explicitly allowlisted by the user via `torch.serialization.add_safe_globals`. We recommend you start setting `weights_only=True` for any use case where you don't have full control of the loaded file. Please open an issue on GitHub for any issues related to this experimental feature.\n",
      "  model.load_state_dict(torch.load(model_name))\n"
     ]
    },
    {
     "name": "stdout",
     "output_type": "stream",
     "text": [
      "FP32 Model Size: 167518.10 KB\n",
      "INT8 Quantized Model Size: 44641.60 KB\n",
      "Size Reduction: 73.35%\n",
      "MAE : 6.0852, MAPE : 95.59%, RMSE : 7.7403, RSE : 0.1190\n"
     ]
    },
    {
     "data": {
      "text/plain": [
       "<Figure size 1000x1000 with 1 Axes>"
      ],
      "image/png": "[encoded data removed]"
     },
     "metadata": {},
     "output_type": "display_data"
    },
    {
     "name": "stdout",
     "output_type": "stream",
     "text": [
      "Training ended at: 2024-11-04 16:21:30.414991\n",
      "Total training time: 0:00:14.416653\n"
     ]
    }
   ],
   "execution_count": 16
  }
 ],
 "metadata": {
  "kernelspec": {
   "display_name": "Python 3 (ipykernel)",
   "language": "python",
   "name": "python3"
  },
  "language_info": {
   "codemirror_mode": {
    "name": "ipython",
    "version": 3
   },
   "file_extension": ".py",
   "mimetype": "text/x-python",
   "name": "python",
   "nbconvert_exporter": "python",
   "pygments_lexer": "ipython3",
   "version": "3.7.16"
  },
  "toc": {
   "base_numbering": 1,
   "nav_menu": {},
   "number_sections": false,
   "sideBar": true,
   "skip_h1_title": false,
   "title_cell": "Table of Contents",
   "title_sidebar": "Contents",
   "toc_cell": false,
   "toc_position": {},
   "toc_section_display": true,
   "toc_window_display": false
  }
 },
 "nbformat": 4,
 "nbformat_minor": 5
}
