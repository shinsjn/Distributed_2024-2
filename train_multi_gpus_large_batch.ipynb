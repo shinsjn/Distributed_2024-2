{
 "cells": [
  {
   "cell_type": "markdown",
   "id": "64447c74",
   "metadata": {},
   "source": [
    "# 모듈 불러오기"
   ]
  },
  {
   "metadata": {
    "ExecuteTime": {
     "end_time": "2024-11-04T05:58:28.305482Z",
     "start_time": "2024-11-04T05:58:27.557029Z"
    }
   },
   "cell_type": "code",
   "source": "!pip install opencv-python",
   "id": "f895e3e19041882c",
   "outputs": [
    {
     "name": "stdout",
     "output_type": "stream",
     "text": [
      "/bin/bash: warning: setlocale: LC_ALL: cannot change locale (en_US.UTF-8)\r\n",
      "Requirement already satisfied: opencv-python in /home/shinsjn/miniconda3/envs/Jupyter_test/lib/python3.10/site-packages (4.10.0.84)\r\n",
      "Requirement already satisfied: numpy>=1.21.2 in /home/shinsjn/miniconda3/envs/Jupyter_test/lib/python3.10/site-packages (from opencv-python) (1.26.4)\r\n"
     ]
    }
   ],
   "execution_count": 1
  },
  {
   "cell_type": "code",
   "id": "34dc5bfa",
   "metadata": {
    "ExecuteTime": {
     "end_time": "2024-11-04T05:58:29.568753Z",
     "start_time": "2024-11-04T05:58:28.316582Z"
    }
   },
   "source": [
    "import pandas as pd\n",
    "import numpy as np\n",
    "import matplotlib.pyplot as plt\n",
    "import seaborn as sns\n",
    "import random\n",
    "import re\n",
    "\n",
    "import scipy\n",
    "from scipy.ndimage import gaussian_filter1d\n",
    "from sklearn.preprocessing import MinMaxScaler, StandardScaler\n",
    "from sklearn.metrics import mean_squared_error, mean_absolute_error\n",
    "from sklearn.model_selection import train_test_split\n",
    "from sklearn.linear_model import LinearRegression\n",
    "from sklearn.manifold import TSNE\n",
    "\n",
    "import torch\n",
    "from torch.utils.data import Dataset, DataLoader, random_split\n",
    "import torch.nn as nn\n",
    "from torch import optim\n",
    "import torch.nn.functional as F\n",
    "\n",
    "import os \n",
    "import glob\n",
    "import itertools\n",
    "from copy import deepcopy\n",
    "from sklearn.model_selection import KFold\n",
    "\n",
    "import datetime\n",
    "\n",
    "from dataloader import *\n",
    "\n",
    "from model_distribution import *"
   ],
   "outputs": [],
   "execution_count": 2
  },
  {
   "cell_type": "markdown",
   "id": "3038d51f",
   "metadata": {},
   "source": [
    "# Train"
   ]
  },
  {
   "cell_type": "code",
   "id": "feb3d5a4",
   "metadata": {
    "ExecuteTime": {
     "end_time": "2024-11-04T05:58:29.774468Z",
     "start_time": "2024-11-04T05:58:29.771173Z"
    }
   },
   "source": [
    "device = torch.device('cuda:0' if torch.cuda.is_available else 'cpu')\n",
    "\n",
    "conv1d_dim1 = 32\n",
    "conv1d_dim2 = 64\n",
    "conv1d_dim3 = 128\n",
    "dense_dim = 256\n",
    "\n",
    "learning_rate = 0.001\n",
    "n_epochs = 2000\n",
    "\n",
    "criterion_distribution = nn.GaussianNLLLoss()"
   ],
   "outputs": [],
   "execution_count": 3
  },
  {
   "cell_type": "code",
   "id": "0e5d0ed5",
   "metadata": {
    "ExecuteTime": {
     "end_time": "2024-11-04T05:58:29.844878Z",
     "start_time": "2024-11-04T05:58:29.834056Z"
    }
   },
   "source": [
    "# 경로 입력 및 아이디 추출\n",
    "\n",
    "file_path = \"./data/total/\"\n",
    "data_path = glob.glob(file_path + '*')\n",
    "name = []\n",
    "for file_name in data_path:\n",
    "    folder_name = os.path.split(file_name)[1][:7]\n",
    "    name += [folder_name]\n",
    "    \n",
    "id_name = np.unique(name)"
   ],
   "outputs": [],
   "execution_count": 4
  },
  {
   "cell_type": "code",
   "id": "190fe5f3",
   "metadata": {
    "ExecuteTime": {
     "end_time": "2024-11-04T05:58:29.881941Z",
     "start_time": "2024-11-04T05:58:29.875992Z"
    }
   },
   "source": [
    "id_name"
   ],
   "outputs": [
    {
     "data": {
      "text/plain": [
       "array(['IF00017', 'IF00024', 'IF00034', 'IF00041', 'IF01020', 'IF01045',\n",
       "       'IF01047', 'IF02035', 'IF03014', 'IF03027', 'IF03039', 'IF94031',\n",
       "       'IF99008', 'IF99013', 'IF99030', 'IF99032', 'IM01006', 'IM01029',\n",
       "       'IM02040', 'IM03011', 'IM03048', 'IM96018', 'IM96033', 'IM97015',\n",
       "       'IM98009', 'IM98019', 'IM98026', 'IM98036', 'IM98042', 'IM98049',\n",
       "       'IM98050', 'IM99007', 'IM99010', 'IM99012', 'IM99021', 'IM99025',\n",
       "       'IM99037'], dtype='<U7')"
      ]
     },
     "execution_count": 5,
     "metadata": {},
     "output_type": "execute_result"
    }
   ],
   "execution_count": 5
  },
  {
   "cell_type": "code",
   "id": "a893c2be",
   "metadata": {
    "ExecuteTime": {
     "end_time": "2024-11-04T05:58:29.954025Z",
     "start_time": "2024-11-04T05:58:29.949093Z"
    }
   },
   "source": [
    "test_id = np.array(['IF03014', 'IF00041', 'IM02040', 'IM98049'])\n",
    "# test_id = np.array(['IF03014', 'IF00041', 'IM02040', 'IM98042'])"
   ],
   "outputs": [],
   "execution_count": 6
  },
  {
   "cell_type": "code",
   "id": "71aaea7b",
   "metadata": {
    "scrolled": true,
    "jupyter": {
     "is_executing": true
    },
    "ExecuteTime": {
     "start_time": "2024-11-04T05:58:29.992398Z"
    }
   },
   "source": [
    "# seed 고정\n",
    "random_seed = 77\n",
    "torch.manual_seed(random_seed) # torch \n",
    "torch.cuda.manual_seed(random_seed)\n",
    "torch.cuda.manual_seed_all(random_seed) # if use multi-GPU\n",
    "torch.backends.cudnn.deterministic = True # cudnn\n",
    "torch.backends.cudnn.benchmark = False # cudnn\n",
    "np.random.seed(random_seed) # numpy\n",
    "random.seed(random_seed) # random\n",
    "\n",
    "\n",
    "kfold = KFold(n_splits=10, shuffle=True, random_state=random_seed)\n",
    "\n",
    "id_name_trnval = np.setdiff1d(id_name, test_id)\n",
    "best_MAE_fold = 0\n",
    "for fold, (train_idx, valid_idx) in enumerate(kfold.split(id_name_trnval)):\n",
    "    train_id = id_name_trnval[train_idx]\n",
    "    valid_id = id_name_trnval[valid_idx]\n",
    "\n",
    "    print('Train ID : {}\\n Valid ID {}'.format(train_id, valid_id))\n",
    "    \n",
    "    train_dataset_R = Gait_Dataset_Salted(file_path, train_id, right=True)\n",
    "    train_dataset_L = Gait_Dataset_Salted(file_path, train_id, right=False)\n",
    "\n",
    "    valid_dataset_R = Gait_Dataset_Salted(file_path, valid_id, right=True)\n",
    "    valid_dataset_L = Gait_Dataset_Salted(file_path, valid_id, right=False)\n",
    "\n",
    "    train_dataset = torch.utils.data.ConcatDataset([train_dataset_R, train_dataset_L])\n",
    "    valid_dataset = torch.utils.data.ConcatDataset([valid_dataset_R, valid_dataset_L])\n",
    "\n",
    "    train_loader = torch.utils.data.DataLoader(train_dataset,\n",
    "                                           batch_size=len(train_dataset),\n",
    "                                           shuffle=True,\n",
    "                                           worker_init_fn=np.random.seed(42))\n",
    "    val_loader = torch.utils.data.DataLoader(valid_dataset,\n",
    "                                             batch_size=len(valid_dataset),\n",
    "                                             shuffle=False)\n",
    "\n",
    "\n",
    "    print('Fold {} Dataloader Load Complete'.format(fold+1))\n",
    "\n",
    "\n",
    "\n",
    "    model = Encoder(conv1d_dim1, conv1d_dim2, conv1d_dim3, dense_dim)\n",
    "    model = nn.DataParallel(model).to(device)\n",
    "    optimizer = torch.optim.Adam(model.parameters(), lr=learning_rate)\n",
    "\n",
    "    # Early Stopping을 위한 변수\n",
    "    best = 10000\n",
    "    converge_cnt = 0\n",
    "    best_MAE = 1000\n",
    "    best_corr = 0\n",
    "    best_epoch = 0\n",
    "\n",
    "        # 학습 시작 시간 기록\n",
    "    start_time = datetime.datetime.now()\n",
    "    print(f\"Training started at: {start_time}\")\n",
    "    \n",
    "    # Run Training loop\n",
    "    for epoch in range(0, n_epochs):\n",
    "        # Set current loss value \n",
    "        tot_trn_loss = 0.0\n",
    "    \n",
    "        # Train Mode\n",
    "        model.train()\n",
    "    \n",
    "        # Iterate over the DataLoader for training data \n",
    "        for i, data in enumerate(train_loader):\n",
    "            inputs_acc, inputs_gyr, inputs_prs, stride_length, mu, sigma, folder_id = data\n",
    "            inputs_acc, inputs_gyr, inputs_prs, stride_length, mu, sigma = inputs_acc.float(), inputs_gyr.float(), inputs_prs.float(), stride_length.float(), mu.float(), sigma.float() \n",
    "            inputs_acc, inputs_gyr, inputs_prs = inputs_acc.to(device), inputs_gyr.to(device), inputs_prs.to(device)\n",
    "    \n",
    "            mu, sigma = mu.reshape(-1, 1), sigma.reshape(-1, 1)\n",
    "            mu, sigma = mu.to(device), sigma.to(device)\n",
    "    \n",
    "            stride_length = stride_length.reshape(-1, 1)\n",
    "            stride_length = stride_length.to(device)\n",
    "    \n",
    "            # 순전파 \n",
    "            outputs, var = model(inputs_acc, inputs_gyr, inputs_prs)\n",
    "    \n",
    "            # Loss 계산\n",
    "            loss = criterion_distribution(mu, outputs, var)\n",
    "    \n",
    "            # 기울기 초기화 \n",
    "            optimizer.zero_grad()\n",
    "            # 역전파\n",
    "            loss.backward()\n",
    "            # 옵티마이저\n",
    "            optimizer.step()\n",
    "    \n",
    "            # Print statistics\n",
    "            tot_trn_loss += loss.item()\n",
    "    \n",
    "        # Evaluation Mode\n",
    "        model.eval()\n",
    "    \n",
    "        tot_val_loss = 0\n",
    "        tot_val_MAE = 0\n",
    "        val_epoch_loss = []\n",
    "    \n",
    "        with torch.no_grad():\n",
    "            for i, data in enumerate(val_loader):\n",
    "                inputs_acc, inputs_gyr, inputs_prs, stride_length, mu, sigma, folder_id = data\n",
    "                inputs_acc, inputs_gyr, inputs_prs, stride_length, mu, sigma = inputs_acc.float(), inputs_gyr.float(), inputs_prs.float(), stride_length.float(), mu.float(), sigma.float() \n",
    "                inputs_acc, inputs_gyr, inputs_prs = inputs_acc.to(device), inputs_gyr.to(device), inputs_prs.to(device)\n",
    "    \n",
    "                mu, sigma = mu.reshape(-1, 1), sigma.reshape(-1, 1)\n",
    "                mu, sigma = mu.to(device), sigma.to(device)\n",
    "    \n",
    "                stride_length = stride_length.reshape(-1, 1)\n",
    "                stride_length = stride_length.to(device)\n",
    "    \n",
    "                # 순전파 \n",
    "                outputs, var = model(inputs_acc, inputs_gyr, inputs_prs)\n",
    "    \n",
    "                # Loss 계산\n",
    "                loss = criterion_distribution(mu, outputs, var)\n",
    "    \n",
    "                tot_val_loss += loss.item()\n",
    "                tot_val_MAE += torch.sum(torch.abs(outputs - stride_length)) / len(stride_length)\n",
    "    \n",
    "        # Epoch 별 Loss\n",
    "        trn_loss = tot_trn_loss / len(train_loader)\n",
    "        val_loss = tot_val_loss / len(val_loader)\n",
    "        MAE = tot_val_MAE / len(val_loader)    \n",
    "    \n",
    "        # print(\"Fold : {}, Epoch : {}/{}, Train Loss : {:.3f}, Valid Loss {:.3f}, MAE {:.3f}\".format(fold+1, epoch+1, n_epochs,\n",
    "        #                                                                                        trn_loss, val_loss, MAE))\n",
    "    \n",
    "        # Early Stopping\n",
    "        if val_loss < best:\n",
    "            best = np.mean(val_loss)\n",
    "            best_MAE = MAE\n",
    "            best_epoch = epoch+1\n",
    "            torch.save(deepcopy(model.state_dict()), './model/L2/L2_fold{}.pth'.format(fold+1))\n",
    "            # print('Best Valid Loss {:.4f}'.format(best))\n",
    "            converge_cnt = 0\n",
    "        else:\n",
    "            converge_cnt += 1\n",
    "    \n",
    "        if converge_cnt > 50:\n",
    "            print('Early stopping')\n",
    "            print('Best Result : Fold : {}, Epoch {}, Valid Loss {:.3f}, MAE {:.3f}'.format(fold+1, best_epoch, best, best_MAE))\n",
    "            best_MAE_fold += best_MAE\n",
    "            break\n",
    "    \n",
    "    # 학습 종료 시간 및 경과 시간 계산\n",
    "    end_time = datetime.datetime.now()\n",
    "    elapsed_time = end_time - start_time\n",
    "    print(f\"Training ended at: {end_time}\")\n",
    "    print(f\"Total training time: {elapsed_time}\")\n"
   ],
   "outputs": [
    {
     "name": "stdout",
     "output_type": "stream",
     "text": [
      "Train ID : ['IF00017' 'IF00024' 'IF01020' 'IF01045' 'IF01047' 'IF02035' 'IF03027'\n",
      " 'IF99008' 'IF99013' 'IF99030' 'IF99032' 'IM01006' 'IM01029' 'IM03011'\n",
      " 'IM03048' 'IM96018' 'IM96033' 'IM97015' 'IM98009' 'IM98026' 'IM98036'\n",
      " 'IM98042' 'IM98050' 'IM99007' 'IM99010' 'IM99012' 'IM99021' 'IM99025'\n",
      " 'IM99037']\n",
      " Valid ID ['IF00034' 'IF03039' 'IF94031' 'IM98019']\n",
      "Fold 1 Dataloader Load Complete\n",
      "Training started at: 2024-11-04 14:58:39.458050\n",
      "Early stopping\n",
      "Best Result : Fold : 1, Epoch 36, Valid Loss 3.437, MAE 10.285\n",
      "Training ended at: 2024-11-04 14:59:15.677141\n",
      "Total training time: 0:00:36.219091\n",
      "Train ID : ['IF00017' 'IF00024' 'IF00034' 'IF01020' 'IF01045' 'IF01047' 'IF02035'\n",
      " 'IF03027' 'IF03039' 'IF94031' 'IF99008' 'IF99013' 'IF99030' 'IM01006'\n",
      " 'IM01029' 'IM03011' 'IM03048' 'IM96033' 'IM97015' 'IM98009' 'IM98019'\n",
      " 'IM98026' 'IM98036' 'IM98042' 'IM98050' 'IM99010' 'IM99021' 'IM99025'\n",
      " 'IM99037']\n",
      " Valid ID ['IF99032' 'IM96018' 'IM99007' 'IM99012']\n",
      "Fold 2 Dataloader Load Complete\n",
      "Training started at: 2024-11-04 14:59:23.549907\n"
     ]
    }
   ],
   "execution_count": null
  },
  {
   "cell_type": "markdown",
   "id": "601ff15e",
   "metadata": {},
   "source": [
    "# Visualize"
   ]
  },
  {
   "cell_type": "code",
   "id": "5d260465",
   "metadata": {
    "ExecuteTime": {
     "end_time": "2024-11-04T06:00:05.724750300Z",
     "start_time": "2024-11-04T04:37:36.536381Z"
    }
   },
   "source": [
    "device = torch.device('cuda:0' if torch.cuda.is_available else 'cpu')\n",
    "\n",
    "test_file_path = \"./data/total/\"\n",
    "\n",
    "test_dataset_R = Gait_Dataset_Salted(test_file_path, test_id, right=True)\n",
    "test_dataset_L = Gait_Dataset_Salted(test_file_path, test_id, right=False)\n",
    "\n",
    "test_dataset = torch.utils.data.ConcatDataset([test_dataset_R, test_dataset_L])\n",
    "\n",
    "test_loader = torch.utils.data.DataLoader(test_dataset,\n",
    "                                       batch_size=256,\n",
    "                                       shuffle=False,\n",
    "                                       worker_init_fn=np.random.seed(42))"
   ],
   "outputs": [],
   "execution_count": 22
  },
  {
   "cell_type": "code",
   "id": "b896ff8f",
   "metadata": {
    "ExecuteTime": {
     "end_time": "2024-11-04T06:00:05.725728600Z",
     "start_time": "2024-11-04T04:37:37.719088Z"
    }
   },
   "source": [
    "### Scatter Plot \n",
    "\n",
    "conv1d_dim1 = 32\n",
    "conv1d_dim2 = 64\n",
    "conv1d_dim3 = 128\n",
    "dense_dim = 256\n",
    "\n",
    "stride_length_list = pd.DataFrame()\n",
    "sigma_list = pd.DataFrame()\n",
    "tot_val_MAE = 0\n",
    "tot_val_MAPE = 0\n",
    "\n",
    "for fold_idx, model_name in enumerate(glob.glob('./model/L2/L2_fold' + '*')):\n",
    "    print(model_name)\n",
    "    model = Encoder(conv1d_dim1, conv1d_dim2, conv1d_dim3, dense_dim).to(device)\n",
    "    model.load_state_dict(torch.load(model_name))\n",
    "    model.eval()\n",
    "    pred_list = []\n",
    "    for i, data in enumerate(test_loader):\n",
    "        inputs_acc, inputs_gyr, inputs_prs, stride_length, mu, sigma, folder_id = data\n",
    "        inputs_acc, inputs_gyr, inputs_prs, stride_length = inputs_acc.float(), inputs_gyr.float(), inputs_prs.float(), stride_length.float() \n",
    "        inputs_acc, inputs_gyr, inputs_prs = inputs_acc.to(device), inputs_gyr.to(device), inputs_prs.to(device)\n",
    "\n",
    "        stride_length = stride_length.reshape(-1, 1)\n",
    "        stride_length = stride_length.to(device)\n",
    "\n",
    "        outputs = model(inputs_acc, inputs_gyr, inputs_prs)\n",
    "        stride_length_list.loc[:, fold_idx] = outputs[0].reshape(-1).cpu().detach().numpy()\n",
    "        sigma_list.loc[:, fold_idx] = outputs[1].reshape(-1).cpu().detach().numpy()\n",
    "        \n",
    "pred = stride_length_list.mean(axis=1)\n",
    "stride_length = stride_length.reshape(-1).cpu().detach().numpy()\n",
    "# stride_length = stride_length.reshape(-1)\n",
    "\n",
    "mu = mu.cpu().detach().numpy()\n",
    "# mu = mu\n",
    "\n",
    "# print(pred)\n",
    "# print(stride_length_list)\n",
    "MAE = np.sum(np.abs(pred - stride_length)) / len(stride_length)\n",
    "MAPE = 100 - (np.mean(np.abs(pred - stride_length) / stride_length) * 100)\n",
    "RMSE = np.sqrt(np.mean((stride_length - pred)**2))\n",
    "RSE = RMSE / np.sqrt(np.sum((stride_length - mu)**2))\n",
    "\n",
    "\n",
    "print('MAE : {:.4f}, MAPE : {:.2f}%, RMSE : {:.4f}, RSE : {:.4f}'.format(MAE, MAPE, RMSE, RSE))\n",
    "# print('MAE : {:.4f}'.format(MAE))\n",
    "\n",
    "plt.figure(figsize=(10, 10))\n",
    "plt.scatter(stride_length, pred)\n",
    "plt.xlim([80, 200])\n",
    "plt.xlabel('stride_length')\n",
    "plt.ylim([80, 200])\n",
    "plt.ylabel('pred')\n",
    "\n",
    "xpoints = ypoints = plt.xlim()\n",
    "plt.plot(xpoints, ypoints, linestyle='--', color='k', lw=3, scalex=False, scaley=False)\n",
    "\n",
    "plt.show()"
   ],
   "outputs": [
    {
     "name": "stdout",
     "output_type": "stream",
     "text": [
      "./model/L2/L2_fold8.pth\n"
     ]
    },
    {
     "name": "stderr",
     "output_type": "stream",
     "text": [
      "/tmp/ipykernel_2196/1117567588.py:16: FutureWarning: You are using `torch.load` with `weights_only=False` (the current default value), which uses the default pickle module implicitly. It is possible to construct malicious pickle data which will execute arbitrary code during unpickling (See https://github.com/pytorch/pytorch/blob/main/SECURITY.md#untrusted-models for more details). In a future release, the default value for `weights_only` will be flipped to `True`. This limits the functions that could be executed during unpickling. Arbitrary objects will no longer be allowed to be loaded via this mode unless they are explicitly allowlisted by the user via `torch.serialization.add_safe_globals`. We recommend you start setting `weights_only=True` for any use case where you don't have full control of the loaded file. Please open an issue on GitHub for any issues related to this experimental feature.\n",
      "  model.load_state_dict(torch.load(model_name))\n"
     ]
    },
    {
     "name": "stdout",
     "output_type": "stream",
     "text": [
      "./model/L2/L2_fold7.pth\n"
     ]
    },
    {
     "name": "stderr",
     "output_type": "stream",
     "text": [
      "/tmp/ipykernel_2196/1117567588.py:16: FutureWarning: You are using `torch.load` with `weights_only=False` (the current default value), which uses the default pickle module implicitly. It is possible to construct malicious pickle data which will execute arbitrary code during unpickling (See https://github.com/pytorch/pytorch/blob/main/SECURITY.md#untrusted-models for more details). In a future release, the default value for `weights_only` will be flipped to `True`. This limits the functions that could be executed during unpickling. Arbitrary objects will no longer be allowed to be loaded via this mode unless they are explicitly allowlisted by the user via `torch.serialization.add_safe_globals`. We recommend you start setting `weights_only=True` for any use case where you don't have full control of the loaded file. Please open an issue on GitHub for any issues related to this experimental feature.\n",
      "  model.load_state_dict(torch.load(model_name))\n"
     ]
    },
    {
     "name": "stdout",
     "output_type": "stream",
     "text": [
      "./model/L2/L2_fold9.pth\n"
     ]
    },
    {
     "name": "stderr",
     "output_type": "stream",
     "text": [
      "/tmp/ipykernel_2196/1117567588.py:16: FutureWarning: You are using `torch.load` with `weights_only=False` (the current default value), which uses the default pickle module implicitly. It is possible to construct malicious pickle data which will execute arbitrary code during unpickling (See https://github.com/pytorch/pytorch/blob/main/SECURITY.md#untrusted-models for more details). In a future release, the default value for `weights_only` will be flipped to `True`. This limits the functions that could be executed during unpickling. Arbitrary objects will no longer be allowed to be loaded via this mode unless they are explicitly allowlisted by the user via `torch.serialization.add_safe_globals`. We recommend you start setting `weights_only=True` for any use case where you don't have full control of the loaded file. Please open an issue on GitHub for any issues related to this experimental feature.\n",
      "  model.load_state_dict(torch.load(model_name))\n"
     ]
    },
    {
     "name": "stdout",
     "output_type": "stream",
     "text": [
      "./model/L2/L2_fold5.pth\n"
     ]
    },
    {
     "name": "stderr",
     "output_type": "stream",
     "text": [
      "/tmp/ipykernel_2196/1117567588.py:16: FutureWarning: You are using `torch.load` with `weights_only=False` (the current default value), which uses the default pickle module implicitly. It is possible to construct malicious pickle data which will execute arbitrary code during unpickling (See https://github.com/pytorch/pytorch/blob/main/SECURITY.md#untrusted-models for more details). In a future release, the default value for `weights_only` will be flipped to `True`. This limits the functions that could be executed during unpickling. Arbitrary objects will no longer be allowed to be loaded via this mode unless they are explicitly allowlisted by the user via `torch.serialization.add_safe_globals`. We recommend you start setting `weights_only=True` for any use case where you don't have full control of the loaded file. Please open an issue on GitHub for any issues related to this experimental feature.\n",
      "  model.load_state_dict(torch.load(model_name))\n"
     ]
    },
    {
     "name": "stdout",
     "output_type": "stream",
     "text": [
      "./model/L2/L2_fold1.pth\n"
     ]
    },
    {
     "name": "stderr",
     "output_type": "stream",
     "text": [
      "/tmp/ipykernel_2196/1117567588.py:16: FutureWarning: You are using `torch.load` with `weights_only=False` (the current default value), which uses the default pickle module implicitly. It is possible to construct malicious pickle data which will execute arbitrary code during unpickling (See https://github.com/pytorch/pytorch/blob/main/SECURITY.md#untrusted-models for more details). In a future release, the default value for `weights_only` will be flipped to `True`. This limits the functions that could be executed during unpickling. Arbitrary objects will no longer be allowed to be loaded via this mode unless they are explicitly allowlisted by the user via `torch.serialization.add_safe_globals`. We recommend you start setting `weights_only=True` for any use case where you don't have full control of the loaded file. Please open an issue on GitHub for any issues related to this experimental feature.\n",
      "  model.load_state_dict(torch.load(model_name))\n"
     ]
    },
    {
     "name": "stdout",
     "output_type": "stream",
     "text": [
      "./model/L2/L2_fold3.pth\n"
     ]
    },
    {
     "name": "stderr",
     "output_type": "stream",
     "text": [
      "/tmp/ipykernel_2196/1117567588.py:16: FutureWarning: You are using `torch.load` with `weights_only=False` (the current default value), which uses the default pickle module implicitly. It is possible to construct malicious pickle data which will execute arbitrary code during unpickling (See https://github.com/pytorch/pytorch/blob/main/SECURITY.md#untrusted-models for more details). In a future release, the default value for `weights_only` will be flipped to `True`. This limits the functions that could be executed during unpickling. Arbitrary objects will no longer be allowed to be loaded via this mode unless they are explicitly allowlisted by the user via `torch.serialization.add_safe_globals`. We recommend you start setting `weights_only=True` for any use case where you don't have full control of the loaded file. Please open an issue on GitHub for any issues related to this experimental feature.\n",
      "  model.load_state_dict(torch.load(model_name))\n"
     ]
    },
    {
     "name": "stdout",
     "output_type": "stream",
     "text": [
      "./model/L2/L2_fold10.pth\n"
     ]
    },
    {
     "name": "stderr",
     "output_type": "stream",
     "text": [
      "/tmp/ipykernel_2196/1117567588.py:16: FutureWarning: You are using `torch.load` with `weights_only=False` (the current default value), which uses the default pickle module implicitly. It is possible to construct malicious pickle data which will execute arbitrary code during unpickling (See https://github.com/pytorch/pytorch/blob/main/SECURITY.md#untrusted-models for more details). In a future release, the default value for `weights_only` will be flipped to `True`. This limits the functions that could be executed during unpickling. Arbitrary objects will no longer be allowed to be loaded via this mode unless they are explicitly allowlisted by the user via `torch.serialization.add_safe_globals`. We recommend you start setting `weights_only=True` for any use case where you don't have full control of the loaded file. Please open an issue on GitHub for any issues related to this experimental feature.\n",
      "  model.load_state_dict(torch.load(model_name))\n"
     ]
    },
    {
     "name": "stdout",
     "output_type": "stream",
     "text": [
      "./model/L2/L2_fold2.pth\n"
     ]
    },
    {
     "name": "stderr",
     "output_type": "stream",
     "text": [
      "/tmp/ipykernel_2196/1117567588.py:16: FutureWarning: You are using `torch.load` with `weights_only=False` (the current default value), which uses the default pickle module implicitly. It is possible to construct malicious pickle data which will execute arbitrary code during unpickling (See https://github.com/pytorch/pytorch/blob/main/SECURITY.md#untrusted-models for more details). In a future release, the default value for `weights_only` will be flipped to `True`. This limits the functions that could be executed during unpickling. Arbitrary objects will no longer be allowed to be loaded via this mode unless they are explicitly allowlisted by the user via `torch.serialization.add_safe_globals`. We recommend you start setting `weights_only=True` for any use case where you don't have full control of the loaded file. Please open an issue on GitHub for any issues related to this experimental feature.\n",
      "  model.load_state_dict(torch.load(model_name))\n"
     ]
    },
    {
     "name": "stdout",
     "output_type": "stream",
     "text": [
      "./model/L2/L2_fold4.pth\n"
     ]
    },
    {
     "name": "stderr",
     "output_type": "stream",
     "text": [
      "/tmp/ipykernel_2196/1117567588.py:16: FutureWarning: You are using `torch.load` with `weights_only=False` (the current default value), which uses the default pickle module implicitly. It is possible to construct malicious pickle data which will execute arbitrary code during unpickling (See https://github.com/pytorch/pytorch/blob/main/SECURITY.md#untrusted-models for more details). In a future release, the default value for `weights_only` will be flipped to `True`. This limits the functions that could be executed during unpickling. Arbitrary objects will no longer be allowed to be loaded via this mode unless they are explicitly allowlisted by the user via `torch.serialization.add_safe_globals`. We recommend you start setting `weights_only=True` for any use case where you don't have full control of the loaded file. Please open an issue on GitHub for any issues related to this experimental feature.\n",
      "  model.load_state_dict(torch.load(model_name))\n"
     ]
    },
    {
     "name": "stdout",
     "output_type": "stream",
     "text": [
      "./model/L2/L2_fold6.pth\n"
     ]
    },
    {
     "name": "stderr",
     "output_type": "stream",
     "text": [
      "/tmp/ipykernel_2196/1117567588.py:16: FutureWarning: You are using `torch.load` with `weights_only=False` (the current default value), which uses the default pickle module implicitly. It is possible to construct malicious pickle data which will execute arbitrary code during unpickling (See https://github.com/pytorch/pytorch/blob/main/SECURITY.md#untrusted-models for more details). In a future release, the default value for `weights_only` will be flipped to `True`. This limits the functions that could be executed during unpickling. Arbitrary objects will no longer be allowed to be loaded via this mode unless they are explicitly allowlisted by the user via `torch.serialization.add_safe_globals`. We recommend you start setting `weights_only=True` for any use case where you don't have full control of the loaded file. Please open an issue on GitHub for any issues related to this experimental feature.\n",
      "  model.load_state_dict(torch.load(model_name))\n"
     ]
    },
    {
     "name": "stdout",
     "output_type": "stream",
     "text": [
      "MAE : 4.9239, MAPE : 96.30%, RMSE : 6.4801, RSE : 0.0997\n"
     ]
    },
    {
     "data": {
      "text/plain": [
       "<Figure size 1000x1000 with 1 Axes>"
      ],
      "image/png": "[encoded data removed]"
     },
     "metadata": {},
     "output_type": "display_data"
    }
   ],
   "execution_count": 23
  }
 ],
 "metadata": {
  "kernelspec": {
   "display_name": "Python 3 (ipykernel)",
   "language": "python",
   "name": "python3"
  },
  "language_info": {
   "codemirror_mode": {
    "name": "ipython",
    "version": 3
   },
   "file_extension": ".py",
   "mimetype": "text/x-python",
   "name": "python",
   "nbconvert_exporter": "python",
   "pygments_lexer": "ipython3",
   "version": "3.7.16"
  },
  "toc": {
   "base_numbering": 1,
   "nav_menu": {},
   "number_sections": false,
   "sideBar": true,
   "skip_h1_title": false,
   "title_cell": "Table of Contents",
   "title_sidebar": "Contents",
   "toc_cell": false,
   "toc_position": {},
   "toc_section_display": true,
   "toc_window_display": false
  }
 },
 "nbformat": 4,
 "nbformat_minor": 5
}
